{
 "cells": [
  {
   "cell_type": "code",
   "execution_count": null,
   "id": "5b773f4e",
   "metadata": {},
   "outputs": [],
   "source": [
    "SELECT\n",
    "DATE(events.created_at) AS \"day\",\n",
    "events.description, COUNT(events.id) AS \"count\" \n",
    "FROM events \n",
    "WHERE events.name = 'trained'\n",
    "GROUP BY \"day\", events.description \n",
    "ORDER BY \"day\" ;"
   ]
  }
 ],
 "metadata": {
  "kernelspec": {
   "display_name": "Python 3.9.12 ('m1_ih')",
   "language": "python",
   "name": "python3"
  },
  "language_info": {
   "codemirror_mode": {
    "name": "ipython",
    "version": 3
   },
   "file_extension": ".py",
   "mimetype": "text/x-python",
   "name": "python",
   "nbconvert_exporter": "python",
   "pygments_lexer": "ipython3",
   "version": "3.9.12"
  },
  "vscode": {
   "interpreter": {
    "hash": "bd0e827a46b3d492671e89fb640c5dcd832d787749330daa44102428b7507c09"
   }
  }
 },
 "nbformat": 4,
 "nbformat_minor": 5
}
