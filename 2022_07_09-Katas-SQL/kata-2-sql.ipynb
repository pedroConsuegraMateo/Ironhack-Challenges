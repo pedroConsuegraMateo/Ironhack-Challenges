{
 "cells": [
  {
   "cell_type": "code",
   "execution_count": null,
   "id": "3441eb79",
   "metadata": {},
   "outputs": [],
   "source": [
    "SELECT countries.capital\n",
    "FROM countries\n",
    "WHERE continent in ('Africa', 'Afrika') AND substring(country,1,1) = 'E'\n",
    "ORDER BY countries.capital\n",
    "LIMIT 3"
   ]
  }
 ],
 "metadata": {
  "kernelspec": {
   "display_name": "Python 3.9.12 ('m1_ih')",
   "language": "python",
   "name": "python3"
  },
  "language_info": {
   "codemirror_mode": {
    "name": "ipython",
    "version": 3
   },
   "file_extension": ".py",
   "mimetype": "text/x-python",
   "name": "python",
   "nbconvert_exporter": "python",
   "pygments_lexer": "ipython3",
   "version": "3.9.12"
  },
  "vscode": {
   "interpreter": {
    "hash": "bd0e827a46b3d492671e89fb640c5dcd832d787749330daa44102428b7507c09"
   }
  }
 },
 "nbformat": 4,
 "nbformat_minor": 5
}
