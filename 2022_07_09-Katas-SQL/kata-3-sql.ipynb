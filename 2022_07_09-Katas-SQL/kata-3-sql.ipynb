{
 "cells": [
  {
   "cell_type": "code",
   "execution_count": null,
   "id": "6f2661d9",
   "metadata": {},
   "outputs": [],
   "source": [
    "SELECT \n",
    "  DATE(s.transaction_date) as \"day\",\n",
    "  d.name as department,\n",
    "  COUNT(s.id) as sale_count\n",
    "  FROM department d\n",
    "    JOIN sale s on d.id = s.department_id\n",
    "  group by \"day\", department\n",
    "  order by \"day\" asc"
   ]
  }
 ],
 "metadata": {
  "kernelspec": {
   "display_name": "Python [conda env:.conda-m1_ih]",
   "language": "python",
   "name": "conda-env-.conda-m1_ih-py"
  },
  "language_info": {
   "codemirror_mode": {
    "name": "ipython",
    "version": 3
   },
   "file_extension": ".py",
   "mimetype": "text/x-python",
   "name": "python",
   "nbconvert_exporter": "python",
   "pygments_lexer": "ipython3",
   "version": "3.9.12"
  }
 },
 "nbformat": 4,
 "nbformat_minor": 5
}
