{
 "cells": [
  {
   "cell_type": "markdown",
   "id": "72ba90c4",
   "metadata": {},
   "source": [
    "# Kata 2022_05_28-Kata-2"
   ]
  },
  {
   "cell_type": "code",
   "execution_count": 5,
   "id": "edc00a5c",
   "metadata": {},
   "outputs": [
    {
     "name": "stdout",
     "output_type": "stream",
     "text": [
      "['github', 'com/']\n"
     ]
    }
   ],
   "source": [
    "url = 'https://github.com/'\n",
    "domain = ''\n",
    "if 'www.' in url:\n",
    "    domain = url.split('.')\n",
    "    return domain[1]\n",
    "if 'https://' in url:\n",
    "    domain = url.split('//')\n",
    "    domain2= domain[1].split('.')\n",
    "    return domain2[0]\n",
    "if 'http://' in url:\n",
    "    domain = url.split('//')\n",
    "    domain2= domain[1].split('.')\n",
    "    return domain2[0]\n",
    "return url.spli('.')[0]"
   ]
  },
  {
   "cell_type": "code",
   "execution_count": null,
   "id": "37e1457d",
   "metadata": {},
   "outputs": [],
   "source": []
  }
 ],
 "metadata": {
  "kernelspec": {
   "display_name": "Python [conda env:.conda-m1_ih]",
   "language": "python",
   "name": "conda-env-.conda-m1_ih-py"
  },
  "language_info": {
   "codemirror_mode": {
    "name": "ipython",
    "version": 3
   },
   "file_extension": ".py",
   "mimetype": "text/x-python",
   "name": "python",
   "nbconvert_exporter": "python",
   "pygments_lexer": "ipython3",
   "version": "3.9.12"
  }
 },
 "nbformat": 4,
 "nbformat_minor": 5
}
