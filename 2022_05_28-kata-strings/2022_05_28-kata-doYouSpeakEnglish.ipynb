{
 "cells": [
  {
   "cell_type": "markdown",
   "id": "c8437faa",
   "metadata": {},
   "source": [
    "## Kata 2022_05_28\n"
   ]
  },
  {
   "cell_type": "code",
   "execution_count": 9,
   "id": "c0cef7a2",
   "metadata": {},
   "outputs": [
    {
     "ename": "SyntaxError",
     "evalue": "'return' outside function (3950760157.py, line 4)",
     "output_type": "error",
     "traceback": [
      "\u001b[1;36m  Input \u001b[1;32mIn [9]\u001b[1;36m\u001b[0m\n\u001b[1;33m    return True\u001b[0m\n\u001b[1;37m    ^\u001b[0m\n\u001b[1;31mSyntaxError\u001b[0m\u001b[1;31m:\u001b[0m 'return' outside function\n"
     ]
    }
   ],
   "source": [
    "sentence = 'sddFFF-engLish'\n",
    "sentence = sentence.lower()\n",
    "if 'English'.lower() in sentence:\n",
    "    return True\n",
    "if 'hsilgnE'.lower() in sentence:\n",
    "    return True\n",
    "return False"
   ]
  },
  {
   "cell_type": "code",
   "execution_count": null,
   "id": "39004be6",
   "metadata": {},
   "outputs": [],
   "source": []
  },
  {
   "cell_type": "code",
   "execution_count": null,
   "id": "aaed14e7",
   "metadata": {},
   "outputs": [],
   "source": []
  }
 ],
 "metadata": {
  "kernelspec": {
   "display_name": "Python [conda env:.conda-m1_ih]",
   "language": "python",
   "name": "conda-env-.conda-m1_ih-py"
  },
  "language_info": {
   "codemirror_mode": {
    "name": "ipython",
    "version": 3
   },
   "file_extension": ".py",
   "mimetype": "text/x-python",
   "name": "python",
   "nbconvert_exporter": "python",
   "pygments_lexer": "ipython3",
   "version": "3.9.12"
  }
 },
 "nbformat": 4,
 "nbformat_minor": 5
}
