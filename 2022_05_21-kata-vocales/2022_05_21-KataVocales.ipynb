{
 "cells": [
  {
   "cell_type": "markdown",
   "id": "1b03152c",
   "metadata": {},
   "source": [
    "# Kata de Vocales\n",
    "## 21/05/2022\n"
   ]
  },
  {
   "cell_type": "code",
   "execution_count": null,
   "id": "8484883c",
   "metadata": {},
   "outputs": [],
   "source": [
    "def get_count(sentence):\n",
    "    \n",
    "    i = 0\n",
    "    for x in sentence:\n",
    "        if x == 'a' or x == 'e' or x == 'i' or x == 'o' or x == 'u':\n",
    "            i = i + 1  \n",
    "            \n",
    "    return i"
   ]
  }
 ],
 "metadata": {
  "kernelspec": {
   "display_name": "Python 3 (ipykernel)",
   "language": "python",
   "name": "python3"
  },
  "language_info": {
   "codemirror_mode": {
    "name": "ipython",
    "version": 3
   },
   "file_extension": ".py",
   "mimetype": "text/x-python",
   "name": "python",
   "nbconvert_exporter": "python",
   "pygments_lexer": "ipython3",
   "version": "3.9.7"
  }
 },
 "nbformat": 4,
 "nbformat_minor": 5
}
