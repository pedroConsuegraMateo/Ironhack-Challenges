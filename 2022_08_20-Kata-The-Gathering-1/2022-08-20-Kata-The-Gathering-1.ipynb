{
 "cells": [
  {
   "cell_type": "code",
   "execution_count": 1,
   "id": "f1adb323",
   "metadata": {},
   "outputs": [],
   "source": [
    "import numpy as np"
   ]
  },
  {
   "cell_type": "code",
   "execution_count": 56,
   "id": "05f32c38",
   "metadata": {},
   "outputs": [
    {
     "name": "stdout",
     "output_type": "stream",
     "text": [
      "[[1, 1], [2, 1], [2, 2], [5, 5]]\n"
     ]
    }
   ],
   "source": [
    "player1 = [[1, 1], [2, 1], [2, 2], [5, 5]];\n",
    "player2 = [[1, 2], [1, 2], [3, 3]];\n",
    "\n",
    "print((player1))"
   ]
  },
  {
   "cell_type": "code",
   "execution_count": 74,
   "id": "132e5f80",
   "metadata": {},
   "outputs": [],
   "source": [
    "def pit_against(c1, c2):\n",
    "    if c1[0] >= c2[1] and c1[1] > c2[0]:\n",
    "        return c1, None\n",
    "    elif c2[0] >= c1[1] and c2[1] > c1[0]:\n",
    "        return None, c2\n",
    "    elif c1[0] < c2[1] and c1[1] > c2[0]:\n",
    "        return c1, c2\n",
    "    else:\n",
    "\n",
    "        return None, None"
   ]
  },
  {
   "cell_type": "code",
   "execution_count": 130,
   "id": "650d2c3f",
   "metadata": {},
   "outputs": [],
   "source": [
    "'''\n",
    "\n",
    "player1 = [[1, 1], [2, 1], [2, 2], [5, 5]];\n",
    "player2 = [[1, 2], [1, 2], [3, 3]];\n",
    "\n",
    "def battle(player1, player2):\n",
    "    p1 = []\n",
    "    p2 = []\n",
    "    remaining = []\n",
    "    if len(player1) > len(player2):\n",
    "        remaining.append(player1[len(player2):])\n",
    "        for i in range(len(player2)):\n",
    "            x1 = pit_against(player1[i], player2[i])[0]\n",
    "            x2 = pit_against(player1[i], player2[i])[1]\n",
    "            if x1 != None:\n",
    "                p1.append(x1)\n",
    "            if x2 != None:\n",
    "                p2.append(x2)\n",
    "        p1.append(remaining[0][0])\n",
    "    \n",
    "    if len(player1) < len(player2):\n",
    "        remaining.append(player1[len(player2):])\n",
    "        for i in range(len(player1)):\n",
    "            x1 = pit_against(player1[i], player2[i])[0]\n",
    "            x2 = pit_against(player1[i], player2[i])[1]\n",
    "            if x1 != None:\n",
    "                p1.append(x1)\n",
    "            if x2 != None:\n",
    "                p2.append(x2)\n",
    "        p2.append(remaining[0][0])\n",
    "    if len(player1) == len(player2):\n",
    "        \n",
    "        for i in range(len(player1)):\n",
    "            x1 = pit_against(player1[i], player2[i])[0]\n",
    "            x2 = pit_against(player1[i], player2[i])[1]\n",
    "            if x1 != None:\n",
    "                p1.append(x1)\n",
    "            if x2 != None:\n",
    "                p2.append(x2)\n",
    "    return {'player1': p1, 'player2':p2}\n",
    "\n",
    "'''"
   ]
  },
  {
   "cell_type": "code",
   "execution_count": 129,
   "id": "807750a9",
   "metadata": {},
   "outputs": [
    {
     "data": {
      "text/plain": [
       "{'player1': [[5, 5]], 'player2': [[1, 2], [3, 3]]}"
      ]
     },
     "execution_count": 129,
     "metadata": {},
     "output_type": "execute_result"
    }
   ],
   "source": [
    "winner = battle(player1, player2)\n",
    "winner"
   ]
  },
  {
   "cell_type": "code",
   "execution_count": 107,
   "id": "1ea80f8e",
   "metadata": {},
   "outputs": [
    {
     "data": {
      "text/plain": [
       "[[5, 5]]"
      ]
     },
     "execution_count": 107,
     "metadata": {},
     "output_type": "execute_result"
    }
   ],
   "source": [
    "player1[3:]"
   ]
  },
  {
   "cell_type": "code",
   "execution_count": 131,
   "id": "efc3d16d",
   "metadata": {},
   "outputs": [],
   "source": [
    "def battle(player1, player2):\n",
    "    matches = min(len(player1), len(player2))\n",
    "    for match in range(matches):\n",
    "        player1[match], player2[match] = competition(player1[match], player2[match])\n",
    "        print(player1, f'Loop number {match}')\n",
    "        print(player2, f'Loop number {match}')\n",
    "    player1 = list(filter(lambda x: x is not None, player1))\n",
    "    player2 = list(filter(lambda x: x is not None, player2))\n",
    "    print(player1)\n",
    "    print(player2)\n",
    "    final_dict = {\"player1\": player1, \"player2\": player2}\n",
    "    return final_dict"
   ]
  },
  {
   "cell_type": "code",
   "execution_count": null,
   "id": "55b53155",
   "metadata": {},
   "outputs": [],
   "source": []
  }
 ],
 "metadata": {
  "kernelspec": {
   "display_name": "Python [conda env:m2_ih]",
   "language": "python",
   "name": "conda-env-m2_ih-py"
  },
  "language_info": {
   "codemirror_mode": {
    "name": "ipython",
    "version": 3
   },
   "file_extension": ".py",
   "mimetype": "text/x-python",
   "name": "python",
   "nbconvert_exporter": "python",
   "pygments_lexer": "ipython3",
   "version": "3.9.12"
  }
 },
 "nbformat": 4,
 "nbformat_minor": 5
}
