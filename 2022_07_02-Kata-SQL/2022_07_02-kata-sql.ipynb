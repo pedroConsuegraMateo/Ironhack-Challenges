{
 "cells": [
  {
   "cell_type": "code",
   "execution_count": 9,
   "id": "20f4e96a",
   "metadata": {},
   "outputs": [],
   "source": [
    "query = '''\n",
    "SELECT customer.customer_id, customer.email, COUNT(*) AS \"payments_count\", CAST(SUM(payment.amount) AS FLOAT) AS \"total_amount\"\n",
    "FROM customer \n",
    "INNER JOIN payment ON customer.customer_id = payment.customer_id\n",
    "GROUP BY customer.customer_id, customer.email\n",
    "ORDER BY \"total_amount\" DESC\n",
    "LIMIT 10\n",
    "'''"
   ]
  },
  {
   "cell_type": "code",
   "execution_count": null,
   "id": "0191a380",
   "metadata": {},
   "outputs": [],
   "source": []
  },
  {
   "cell_type": "code",
   "execution_count": null,
   "id": "75449add",
   "metadata": {},
   "outputs": [],
   "source": []
  }
 ],
 "metadata": {
  "kernelspec": {
   "display_name": "Python [conda env:.conda-m1_ih]",
   "language": "python",
   "name": "conda-env-.conda-m1_ih-py"
  },
  "language_info": {
   "codemirror_mode": {
    "name": "ipython",
    "version": 3
   },
   "file_extension": ".py",
   "mimetype": "text/x-python",
   "name": "python",
   "nbconvert_exporter": "python",
   "pygments_lexer": "ipython3",
   "version": "3.9.12"
  }
 },
 "nbformat": 4,
 "nbformat_minor": 5
}
