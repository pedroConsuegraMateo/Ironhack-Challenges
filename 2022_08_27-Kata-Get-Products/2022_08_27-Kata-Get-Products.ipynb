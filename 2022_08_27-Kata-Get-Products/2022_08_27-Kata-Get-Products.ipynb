{
 "cells": [
  {
   "cell_type": "code",
   "execution_count": 10,
   "id": "013ed318",
   "metadata": {},
   "outputs": [],
   "source": [
    "from itertools import combinations"
   ]
  },
  {
   "cell_type": "code",
   "execution_count": 1,
   "id": "cee663b0",
   "metadata": {},
   "outputs": [],
   "source": [
    "def eval_prod_sum(arr, num_fact, num_add, max_val):\n",
    "    \n",
    "    # implement me!\n",
    "    \n",
    "    return [{f\"Below than {max_val}\" : 0},\n",
    "            {f\"Equals to {max_val}\"  : 0},\n",
    "            {f\"Higher than {max_val}\": 0}]"
   ]
  },
  {
   "cell_type": "code",
   "execution_count": 27,
   "id": "716f6436",
   "metadata": {},
   "outputs": [],
   "source": [
    "def arr_comprobation(arr):\n",
    "    \n",
    "    new_arr = [i for i in arr if type(i) == int and i != 0]\n",
    "    return new_arr"
   ]
  },
  {
   "cell_type": "code",
   "execution_count": 9,
   "id": "fae28538",
   "metadata": {},
   "outputs": [],
   "source": [
    "def param_comprobation(param):\n",
    "    if num_fact > 0:\n",
    "        return param\n",
    "    else:\n",
    "        return 1"
   ]
  },
  {
   "cell_type": "code",
   "execution_count": 17,
   "id": "46444ff0",
   "metadata": {},
   "outputs": [],
   "source": [
    "def first_op(arr, num_fact):\n",
    "    result = []\n",
    "    \n",
    "    comb = list(combinations(arr, num_fact))\n",
    "    for i in comb:\n",
    "        r = 1\n",
    "        for j in i:\n",
    "            r *= j\n",
    "        result.append(r)\n",
    "    return result\n",
    "        \n",
    "        "
   ]
  },
  {
   "cell_type": "code",
   "execution_count": 23,
   "id": "459dd030",
   "metadata": {},
   "outputs": [],
   "source": [
    "def second_op(result, num_add):\n",
    "    second_result = []\n",
    "    \n",
    "    comb = list(combinations(result, num_add))\n",
    "    for i in comb:\n",
    "        sr = 0\n",
    "        for j in i:\n",
    "            sr += j\n",
    "        second_result.append(sr)\n",
    "    return second_result"
   ]
  },
  {
   "cell_type": "code",
   "execution_count": 25,
   "id": "e988cdc4",
   "metadata": {},
   "outputs": [],
   "source": [
    "def third_op(second_result, max_val):\n",
    "    smaller = 0\n",
    "    equal = 0\n",
    "    larger = 0\n",
    "    \n",
    "    for i in second_result:\n",
    "        if i < max_val:\n",
    "            smaller += 1\n",
    "        elif i == max_val:\n",
    "            equal += 1\n",
    "        elif i > max_val:\n",
    "            larger += 1\n",
    "    return smaller, equal, larger"
   ]
  },
  {
   "cell_type": "code",
   "execution_count": null,
   "id": "47c60dcc",
   "metadata": {},
   "outputs": [],
   "source": [
    "def num_fact_comprobation(num_fact):\n",
    "    if num_fact == int and num_fact > 0:\n",
    "        return num_fact\n",
    "    else:\n",
    "        return 1"
   ]
  },
  {
   "cell_type": "code",
   "execution_count": null,
   "id": "201deb2e",
   "metadata": {},
   "outputs": [],
   "source": [
    "def num_add_comprobation(num_add):\n",
    "    if num_add == int and num_add > 0:\n",
    "        return num_fact\n",
    "    else:\n",
    "        return 1"
   ]
  },
  {
   "cell_type": "code",
   "execution_count": null,
   "id": "9c3790fa",
   "metadata": {},
   "outputs": [],
   "source": [
    "def max_comprobation(max_val):\n",
    "    if max_val == int:\n",
    "        return max_val\n",
    "    else:\n",
    "        return 0"
   ]
  },
  {
   "cell_type": "code",
   "execution_count": 21,
   "id": "fd0cf477",
   "metadata": {},
   "outputs": [
    {
     "data": {
      "text/plain": [
       "(2, 10, 20)"
      ]
     },
     "execution_count": 21,
     "metadata": {},
     "output_type": "execute_result"
    }
   ],
   "source": [
    "ls = [2,10,20,15]\n",
    "\n",
    "result = list(combinations(ls, 3))\n",
    "result[0]"
   ]
  },
  {
   "cell_type": "code",
   "execution_count": 22,
   "id": "1da6237a",
   "metadata": {},
   "outputs": [
    {
     "data": {
      "text/plain": [
       "[400, 300, 600, 3000]"
      ]
     },
     "execution_count": 22,
     "metadata": {},
     "output_type": "execute_result"
    }
   ],
   "source": [
    "result = first_op(ls, 3)\n",
    "result"
   ]
  },
  {
   "cell_type": "code",
   "execution_count": 24,
   "id": "42720694",
   "metadata": {},
   "outputs": [
    {
     "data": {
      "text/plain": [
       "[700, 1000, 3400, 900, 3300, 3600]"
      ]
     },
     "execution_count": 24,
     "metadata": {},
     "output_type": "execute_result"
    }
   ],
   "source": [
    "second_result = second_op(result, 2)\n",
    "second_result"
   ]
  },
  {
   "cell_type": "code",
   "execution_count": 26,
   "id": "cf223841",
   "metadata": {},
   "outputs": [
    {
     "name": "stdout",
     "output_type": "stream",
     "text": [
      "0\n",
      "0\n",
      "6\n"
     ]
    }
   ],
   "source": [
    "smaller, equal, larger = third_op(second_result, 8)\n",
    "print(smaller)\n",
    "print(equal)\n",
    "print(larger)"
   ]
  },
  {
   "cell_type": "code",
   "execution_count": null,
   "id": "f2b97e29",
   "metadata": {},
   "outputs": [],
   "source": [
    "def eval_prod_sum(arr, num_fact, num_add, max_val):\n",
    "    from itertools import combinations\n",
    "    # implement me!\n",
    "    values = [arr, num_fact, num_add, max_val]\n",
    "    \n",
    "    if any(isinstance(val, (str, float, list, dict, tuple)) for val in arr):\n",
    "        return 'Error. Unexpected entries'\n",
    "    elif any(isinstance(val, (str, float, list, dict, tuple)) or val == 0 or val < 0 for val in values):\n",
    "        return 'Error. Unexpected entries'\n",
    "    elif num_fact > len(arr):\n",
    "        return 'Error. Number of factors too high'\n",
    "    elif num_add > len(combs(arr, num_fact)):\n",
    "        return 'Error. Number of addens too high'\n",
    "    else:\n",
    "        def first_op(arr, num_fact):\n",
    "            result = []\n",
    "    \n",
    "            comb = list(combinations(arr, num_fact))\n",
    "            for i in comb:\n",
    "                r = 1\n",
    "                for j in i:\n",
    "                    r *= j\n",
    "                result.append(r)\n",
    "            return result\n",
    "    \n",
    "        def second_op(result, num_add):\n",
    "            second_result = []\n",
    "    \n",
    "            comb = list(combinations(result, num_add))\n",
    "            for i in comb:\n",
    "                sr = 0\n",
    "                for j in i:\n",
    "                    sr += j\n",
    "                second_result.append(sr)\n",
    "            return second_result\n",
    "    \n",
    "        def third_op(second_result, max_val):\n",
    "            smaller = 0\n",
    "            equal = 0\n",
    "            larger = 0\n",
    "        \n",
    "            for i in second_result:\n",
    "                if i < max_val:\n",
    "                    smaller += 1\n",
    "                elif i == max_val:\n",
    "                    equal += 1\n",
    "                elif i > max_val:\n",
    "                    larger += 1\n",
    "            return smaller, equal, larger\n",
    "    \n",
    "        result = first_op(arr, num_fact)\n",
    "        second_result = second_op(result, num_add)\n",
    "        smaller, equal, larger = third_op(second_result, max_val)\n",
    "    \n",
    "        return [{f\"Below than {max_val}\" : smaller},\n",
    "                {f\"Equals to {max_val}\"  : equal},\n",
    "                {f\"Higher than {max_val}\": larger}]\n",
    "        \n",
    "    \n",
    "    "
   ]
  }
 ],
 "metadata": {
  "kernelspec": {
   "display_name": "Python [conda env:m2_ih]",
   "language": "python",
   "name": "conda-env-m2_ih-py"
  },
  "language_info": {
   "codemirror_mode": {
    "name": "ipython",
    "version": 3
   },
   "file_extension": ".py",
   "mimetype": "text/x-python",
   "name": "python",
   "nbconvert_exporter": "python",
   "pygments_lexer": "ipython3",
   "version": "3.9.12"
  }
 },
 "nbformat": 4,
 "nbformat_minor": 5
}
