{
 "cells": [
  {
   "cell_type": "code",
   "execution_count": 2,
   "id": "5f0ecf05",
   "metadata": {},
   "outputs": [],
   "source": [
    "import re\n",
    "import bs4\n",
    "import urllib"
   ]
  },
  {
   "cell_type": "code",
   "execution_count": 8,
   "id": "7c736dca",
   "metadata": {},
   "outputs": [],
   "source": [
    "class KataError(Exception):\n",
    "    def __init__(self, message):\n",
    "        super().__init__(message)\n",
    "\n",
    "def get_member_since(username):\n",
    "    url = f\"https://www.codewars.com/users/{username}\"\n",
    "    try:\n",
    "        # html\n",
    "        file_url = urllib.request.urlopen(url)\n",
    "        html = file_url.read()\n",
    "        parsed_html = bs4.BeautifulSoup(html, \"html.parser\") \n",
    "    \n",
    "        # tag\n",
    "        stats = parsed_html.find_all(\"div\", {\"class\": \"stat\"})\n",
    "        member = [tag for tag in stats if \"Member Since:\" in str(tag)]\n",
    "        member_since = str(member[0])\n",
    "        member_date = member_since.split('<div class=\"stat\"><b>Member Since:</b>')[1].split('</div>')[0]\n",
    "    \n",
    "        return member_date\n",
    "    except:\n",
    "        raise KataError('Fatal error!!')\n",
    "       \n",
    "    "
   ]
  },
  {
   "cell_type": "code",
   "execution_count": null,
   "id": "4a3c640c",
   "metadata": {},
   "outputs": [],
   "source": []
  }
 ],
 "metadata": {
  "kernelspec": {
   "display_name": "Python [conda env:.conda-m1_ih]",
   "language": "python",
   "name": "conda-env-.conda-m1_ih-py"
  },
  "language_info": {
   "codemirror_mode": {
    "name": "ipython",
    "version": 3
   },
   "file_extension": ".py",
   "mimetype": "text/x-python",
   "name": "python",
   "nbconvert_exporter": "python",
   "pygments_lexer": "ipython3",
   "version": "3.9.12"
  }
 },
 "nbformat": 4,
 "nbformat_minor": 5
}
