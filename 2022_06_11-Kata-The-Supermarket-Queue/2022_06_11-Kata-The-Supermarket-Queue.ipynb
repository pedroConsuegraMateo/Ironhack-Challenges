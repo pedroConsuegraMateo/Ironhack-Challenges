{
 "cells": [
  {
   "cell_type": "code",
   "execution_count": 10,
   "id": "e6d74778",
   "metadata": {},
   "outputs": [
    {
     "name": "stdout",
     "output_type": "stream",
     "text": [
      "[0, 0, 1]\n",
      "[0, 1, 4]\n",
      "[1, 4, 9]\n",
      "[4, 6, 9]\n",
      "[6, 9, 10]\n",
      "[6, 9, 10]\n"
     ]
    }
   ],
   "source": [
    "import numpy as np\n",
    "customers = [1,4,9,5,6]\n",
    "n= 3\n",
    "tills = [0]*n\n",
    "\n",
    "for i in customers:\n",
    "    tills[0] += i\n",
    "    tills = sorted(tills)\n",
    "    print(tills)\n",
    "    \n",
    "print(tills)"
   ]
  },
  {
   "cell_type": "code",
   "execution_count": 7,
   "id": "ecc3fc1a",
   "metadata": {},
   "outputs": [
    {
     "name": "stdout",
     "output_type": "stream",
     "text": [
      "[ 2  3  3 10]\n"
     ]
    }
   ],
   "source": [
    "array = np.array([10,2,3,3]) \n",
    "print(np.sort(array))"
   ]
  },
  {
   "cell_type": "code",
   "execution_count": null,
   "id": "d65b0ad6",
   "metadata": {},
   "outputs": [],
   "source": []
  }
 ],
 "metadata": {
  "kernelspec": {
   "display_name": "Python [conda env:.conda-m1_ih]",
   "language": "python",
   "name": "conda-env-.conda-m1_ih-py"
  },
  "language_info": {
   "codemirror_mode": {
    "name": "ipython",
    "version": 3
   },
   "file_extension": ".py",
   "mimetype": "text/x-python",
   "name": "python",
   "nbconvert_exporter": "python",
   "pygments_lexer": "ipython3",
   "version": "3.9.12"
  }
 },
 "nbformat": 4,
 "nbformat_minor": 5
}
