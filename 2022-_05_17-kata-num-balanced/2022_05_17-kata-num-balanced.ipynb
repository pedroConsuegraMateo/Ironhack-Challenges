{
 "cells": [
  {
   "cell_type": "code",
   "execution_count": null,
   "id": "7a155958",
   "metadata": {},
   "outputs": [],
   "source": [
    "def balanced_num(number):\n",
    "\n",
    "    if len(str(number)) <= 2:\n",
    "5\n",
    "        return \"Balanced\"\n",
    "6\n",
    "    else:\n",
    "7\n",
    "        x = [int(n) for n in str(number)]\n",
    "8\n",
    "        numIzq = 0\n",
    "9\n",
    "        numDrcha = 0\n",
    "10\n",
    "        for i in range(len(x)):\n",
    "11\n",
    "            if i < (len(str(number))/2)-1:\n",
    "12\n",
    "                numIzq += x[i]\n",
    "13\n",
    "            elif i > (len(str(number))/2):\n",
    "14\n",
    "                numDrcha += x[i]\n",
    "15\n",
    "\n",
    "16\n",
    "\n",
    "17\n",
    "        if numIzq == numDrcha:\n",
    "18\n",
    "            return \"Balanced\"\n",
    "19\n",
    "        else:\n",
    "20          return \"Not Balanced"
   ]
  }
 ],
 "metadata": {
  "kernelspec": {
   "display_name": "Python [conda env:.conda-m1_ih]",
   "language": "python",
   "name": "conda-env-.conda-m1_ih-py"
  },
  "language_info": {
   "codemirror_mode": {
    "name": "ipython",
    "version": 3
   },
   "file_extension": ".py",
   "mimetype": "text/x-python",
   "name": "python",
   "nbconvert_exporter": "python",
   "pygments_lexer": "ipython3",
   "version": "3.9.12"
  }
 },
 "nbformat": 4,
 "nbformat_minor": 5
}
