{
 "cells": [
  {
   "cell_type": "code",
   "execution_count": null,
   "id": "9a35b674",
   "metadata": {},
   "outputs": [],
   "source": [
    "class User(object):\n",
    "    def __init__(self, name, balance, checking_account):\n",
    "        self.name = name\n",
    "        self.balance = balance\n",
    "        self.checking_account = checking_account\n",
    "    \n",
    "    def withdraw(self, money):\n",
    "        \n",
    "        if self.balance < money:\n",
    "            raise ValueError(\"There is not money enough.\")\n",
    "        else:\n",
    "            self.balance = self.balance - money\n",
    "            return f'{self.name} has {self.balance}.'\n",
    "    \n",
    "    def check(self, other_user, money):\n",
    "        if other_user.checking_account:\n",
    "            if other_user.balance >= money:\n",
    "                self.balance = self.balance + money\n",
    "                other_user.balance = other_user.balance - money\n",
    "            else:\n",
    "                raise ValueError(f\"{other_user.name} is not money enough.\")\n",
    "        else:\n",
    "            raise ValueError(\"Does not exist that client.\")\n",
    "            \n",
    "            \n",
    "        return f'{self.name} has {self.balance} and {other_user.name} has {other_user.balance}.'\n",
    "\n",
    "    def add_cash(self, money):\n",
    "        \n",
    "        self.balance = self.balance + money\n",
    "        \n",
    "        return f'{self.name} has {self.balance}.'\n",
    "        \n",
    "        "
   ]
  }
 ],
 "metadata": {
  "kernelspec": {
   "display_name": "Python [conda env:.conda-m1_ih]",
   "language": "python",
   "name": "conda-env-.conda-m1_ih-py"
  },
  "language_info": {
   "codemirror_mode": {
    "name": "ipython",
    "version": 3
   },
   "file_extension": ".py",
   "mimetype": "text/x-python",
   "name": "python",
   "nbconvert_exporter": "python",
   "pygments_lexer": "ipython3",
   "version": "3.9.12"
  }
 },
 "nbformat": 4,
 "nbformat_minor": 5
}
